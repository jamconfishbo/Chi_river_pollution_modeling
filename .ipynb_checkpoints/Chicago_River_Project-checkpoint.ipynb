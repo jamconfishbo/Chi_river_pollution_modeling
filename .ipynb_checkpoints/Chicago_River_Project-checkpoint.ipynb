{
 "cells": [
  {
   "cell_type": "code",
   "execution_count": 1,
   "id": "3b65cf5a",
   "metadata": {},
   "outputs": [],
   "source": [
    "import requests\n",
    "\n",
    "# 'type': 'Line',\n",
    "#     'lineWidth': 3,\n",
    "#     'hide': False,\n",
    "#     'min': 0,\n",
    "#     'name': 'South Branch-',\n",
    "#     'subType': 'Basic',\n",
    "\n",
    "headers = {\n",
    "    'authority': 'dvlzjowx88.execute-api.us-west-2.amazonaws.com',\n",
    "    'sec-ch-ua': '\" Not A;Brand\";v=\"99\", \"Chromium\";v=\"96\", \"Google Chrome\";v=\"96\"',\n",
    "    'sec-ch-ua-mobile': '?0',\n",
    "    'user-agent': 'Mozilla/5.0 (Macintosh; Intel Mac OS X 10_15_7) AppleWebKit/537.36 (KHTML, like Gecko) Chrome/96.0.4664.93 Safari/537.36',\n",
    "    'sec-ch-ua-platform': '\"macOS\"',\n",
    "    'accept': '*/*',\n",
    "    'origin': 'https://s3.us-east-2.amazonaws.com',\n",
    "    'sec-fetch-site': 'cross-site',\n",
    "    'sec-fetch-mode': 'cors',\n",
    "    'sec-fetch-dest': 'empty',\n",
    "    'referer': 'https://s3.us-east-2.amazonaws.com/',\n",
    "    'accept-language': 'en-US,en;q=0.9',\n",
    "}\n",
    "\n",
    "response = requests.get('https://dvlzjowx88.execute-api.us-west-2.amazonaws.com/h2now/all-branches/bacteria/latest', headers=headers)"
   ]
  },
  {
   "cell_type": "code",
   "execution_count": 2,
   "id": "c83a24e3",
   "metadata": {},
   "outputs": [],
   "source": [
    "db = response.json()"
   ]
  },
  {
   "cell_type": "code",
   "execution_count": 3,
   "id": "add509f3",
   "metadata": {},
   "outputs": [],
   "source": [
    "Northbranch = db[\"data\"][\"dataModel\"][\"data\"][0][\"values\"]\n",
    "Southbranch = db[\"data\"][\"dataModel\"][\"data\"][1][\"values\"]\n",
    "MainStem = db[\"data\"][\"dataModel\"][\"data\"][2][\"values\"]"
   ]
  },
  {
   "cell_type": "code",
   "execution_count": 28,
   "id": "abe3b8e7",
   "metadata": {},
   "outputs": [],
   "source": [
    "import pandas as pd\n",
    "nbdata = pd.DataFrame(columns = [\"date\",\"timeOfSample\", \"ppm\"])\n",
    "sbdata = pd.DataFrame()\n",
    "msdata = pd.DataFrame()\n",
    "\n",
    "for i in range(len(Northbranch)):\n",
    "    nbdata = nbdata.append({\"date\":Northbranch[i][\"timeOfSample\"].split(\"T\")[0], \"timeOfSample\": Northbranch[i][\"timeOfSample\"].split(\"T\")[1].split(\".\")[0], \"ppm\": Northbranch[i][\"value\"]}, ignore_index=True)\n",
    "    \n",
    "    \n",
    "for j in range(len(Southbranch)):\n",
    "    sbdata = sbdata.append({\"date\":Southbranch[j][\"timeOfSample\"].split(\"T\")[0], \"timeOfSample\": Southbranch[j][\"timeOfSample\"].split(\"T\")[1].split(\".\")[0], \"ppm\": Southbranch[j][\"value\"]}, ignore_index=True)\n",
    "    \n",
    "for k in range(len(MainStem)):\n",
    "    msdata = msdata.append({\"date\":MainStem[k][\"timeOfSample\"].split(\"T\")[0], \"timeOfSample\": MainStem[k][\"timeOfSample\"].split(\"T\")[1].split(\".\")[0], \"ppm\": MainStem[k][\"value\"]}, ignore_index=True)\n",
    "\n",
    "\n"
   ]
  },
  {
   "cell_type": "code",
   "execution_count": 39,
   "id": "a15f64af",
   "metadata": {},
   "outputs": [
    {
     "data": {
      "text/plain": [
       "[<matplotlib.lines.Line2D at 0x7fb3792f7fd0>]"
      ]
     },
     "execution_count": 39,
     "metadata": {},
     "output_type": "execute_result"
    },
    {
     "data": {
      "image/png": "[encoded data removed]",
      "text/plain": [
       "<Figure size 432x288 with 1 Axes>"
      ]
     },
     "metadata": {
      "needs_background": "light"
     },
     "output_type": "display_data"
    }
   ],
   "source": [
    "import matplotlib.pyplot as plt\n",
    "\n",
    "y = list(sbdata[\"ppm\"])\n",
    "x = range(len(sbdata))\n",
    "\n",
    "plot = plt.plot(x,y)\n",
    "plot"
   ]
  },
  {
   "cell_type": "code",
   "execution_count": 4,
   "id": "5bfe46f6",
   "metadata": {},
   "outputs": [
    {
     "name": "stdout",
     "output_type": "stream",
     "text": [
      "[[0.1 0.2 0.3 0.4 0.5 0.6 0.7 0.8 0.9 1. ]\n",
      " [1.  0.9 0.8 0.7 0.6 0.5 0.4 0.3 0.2 0.1]\n",
      " [5.  5.  5.  5.  5.  5.  5.  5.  5.  5. ]]\n",
      "(3, 10)\n"
     ]
    }
   ],
   "source": [
    "from numpy import array\n",
    "data = array([\n",
    "\t[0.1, 1.0,5],\n",
    "\t[0.2, 0.9,5],\n",
    "\t[0.3, 0.8,5],\n",
    "\t[0.4, 0.7,5],\n",
    "\t[0.5, 0.6,5],\n",
    "\t[0.6, 0.5,5],\n",
    "\t[0.7, 0.4,5],\n",
    "\t[0.8, 0.3,5],\n",
    "\t[0.9, 0.2,5],\n",
    "\t[1.0, 0.1,5]]).T\n",
    "\n",
    "print(data)\n",
    "print(data.shape)\n",
    "# data = data.reshape(1, 10, 2)\n",
    "# print(data.shape)"
   ]
  },
  {
   "cell_type": "code",
   "execution_count": null,
   "id": "07b4b4ac",
   "metadata": {},
   "outputs": [],
   "source": []
  }
 ],
 "metadata": {
  "kernelspec": {
   "display_name": "Python 3",
   "language": "python",
   "name": "python3"
  },
  "language_info": {
   "codemirror_mode": {
    "name": "ipython",
    "version": 3
   },
   "file_extension": ".py",
   "mimetype": "text/x-python",
   "name": "python",
   "nbconvert_exporter": "python",
   "pygments_lexer": "ipython3",
   "version": "3.8.8"
  }
 },
 "nbformat": 4,
 "nbformat_minor": 5
}
