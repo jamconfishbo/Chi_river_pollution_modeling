{
 "cells": [
  {
   "cell_type": "code",
   "execution_count": 1,
   "source": [
    "import requests\n",
    "\n",
    "# 'type': 'Line',\n",
    "#     'lineWidth': 3,\n",
    "#     'hide': False,\n",
    "#     'min': 0,\n",
    "#     'name': 'South Branch-',\n",
    "#     'subType': 'Basic',\n",
    "\n",
    "headers = {\n",
    "    'authority': 'dvlzjowx88.execute-api.us-west-2.amazonaws.com',\n",
    "    'sec-ch-ua': '\" Not A;Brand\";v=\"99\", \"Chromium\";v=\"96\", \"Google Chrome\";v=\"96\"',\n",
    "    'sec-ch-ua-mobile': '?0',\n",
    "    'user-agent': 'Mozilla/5.0 (Macintosh; Intel Mac OS X 10_15_7) AppleWebKit/537.36 (KHTML, like Gecko) Chrome/96.0.4664.93 Safari/537.36',\n",
    "    'sec-ch-ua-platform': '\"macOS\"',\n",
    "    'accept': '*/*',\n",
    "    'origin': 'https://s3.us-east-2.amazonaws.com',\n",
    "    'sec-fetch-site': 'cross-site',\n",
    "    'sec-fetch-mode': 'cors',\n",
    "    'sec-fetch-dest': 'empty',\n",
    "    'referer': 'https://s3.us-east-2.amazonaws.com/',\n",
    "    'accept-language': 'en-US,en;q=0.9',\n",
    "}\n",
    "\n",
    "response = requests.get('https://dvlzjowx88.execute-api.us-west-2.amazonaws.com/h2now/all-branches/bacteria/latest', headers=headers)"
   ],
   "outputs": [],
   "metadata": {}
  },
  {
   "cell_type": "code",
   "execution_count": 2,
   "source": [
    "db = response.json()"
   ],
   "outputs": [],
   "metadata": {}
  },
  {
   "cell_type": "code",
   "execution_count": 3,
   "source": [
    "Northbranch = db[\"data\"][\"dataModel\"][\"data\"][0][\"values\"]\n",
    "Southbranch = db[\"data\"][\"dataModel\"][\"data\"][1][\"values\"]\n",
    "MainStem = db[\"data\"][\"dataModel\"][\"data\"][2][\"values\"]"
   ],
   "outputs": [],
   "metadata": {}
  },
  {
   "cell_type": "code",
   "execution_count": 4,
   "source": [
    "import pandas as pd\n",
    "nbdata = pd.DataFrame(columns = [\"date\",\"timeOfSample\", \"ppm\"])\n",
    "sbdata = pd.DataFrame()\n",
    "msdata = pd.DataFrame()\n",
    "\n",
    "for i in range(len(Northbranch)):\n",
    "    nbdata = nbdata.append({\"date\":Northbranch[i][\"timeOfSample\"].split(\"T\")[0], \"timeOfSample\": Northbranch[i][\"timeOfSample\"].split(\"T\")[1].split(\".\")[0], \"ppm\": Northbranch[i][\"value\"]}, ignore_index=True)\n",
    "    \n",
    "    \n",
    "for j in range(len(Southbranch)):\n",
    "    sbdata = sbdata.append({\"date\":Southbranch[j][\"timeOfSample\"].split(\"T\")[0], \"timeOfSample\": Southbranch[j][\"timeOfSample\"].split(\"T\")[1].split(\".\")[0], \"ppm\": Southbranch[j][\"value\"]}, ignore_index=True)\n",
    "    \n",
    "for k in range(len(MainStem)):\n",
    "    msdata = msdata.append({\"date\":MainStem[k][\"timeOfSample\"].split(\"T\")[0], \"timeOfSample\": MainStem[k][\"timeOfSample\"].split(\"T\")[1].split(\".\")[0], \"ppm\": MainStem[k][\"value\"]}, ignore_index=True)\n",
    "\n",
    "\n"
   ],
   "outputs": [],
   "metadata": {}
  },
  {
   "cell_type": "code",
   "execution_count": 5,
   "source": [
    "import matplotlib.pyplot as plt\n",
    "\n",
    "y = list(sbdata[\"ppm\"])\n",
    "x = range(len(sbdata))\n",
    "\n",
    "plot = plt.plot(x,y)\n",
    "plot"
   ],
   "outputs": [
    {
     "output_type": "execute_result",
     "data": {
      "text/plain": [
       "[<matplotlib.lines.Line2D at 0x7fe92ccca8d0>]"
      ]
     },
     "metadata": {},
     "execution_count": 5
    },
    {
     "output_type": "display_data",
     "data": {
      "image/png": "[encoded data removed]",
      "text/plain": [
       "<Figure size 432x288 with 1 Axes>"
      ]
     },
     "metadata": {
      "needs_background": "light"
     }
    }
   ],
   "metadata": {}
  },
  {
   "cell_type": "code",
   "execution_count": null,
   "source": [
    "#this is something that i"
   ],
   "outputs": [],
   "metadata": {}
  },
  {
   "cell_type": "code",
   "execution_count": null,
   "source": [],
   "outputs": [],
   "metadata": {}
  }
 ],
 "metadata": {
  "kernelspec": {
   "name": "python3",
   "display_name": "Python 3.7.6 64-bit ('base': conda)"
  },
  "language_info": {
   "codemirror_mode": {
    "name": "ipython",
    "version": 3
   },
   "file_extension": ".py",
   "mimetype": "text/x-python",
   "name": "python",
   "nbconvert_exporter": "python",
   "pygments_lexer": "ipython3",
   "version": "3.7.6"
  },
  "interpreter": {
   "hash": "ac833477186a90fa67859ee58bcc5c4465fb26c9a3c8e1082f853817d9977a4c"
  }
 },
 "nbformat": 4,
 "nbformat_minor": 5
}